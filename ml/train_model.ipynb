{
 "cells": [
  {
   "cell_type": "code",
   "execution_count": null,
   "id": "72b5df86-ef38-4021-ba46-e9a561c5070b",
   "metadata": {},
   "outputs": [],
   "source": [
    "import pandas as pd\n",
    "from sklearn.metrics.pairwise import cosine_similarity\n",
    "import joblib\n",
    "\n",
    "# CSV laden\n",
    "df = pd.read_csv(\"raw_data/Ratings.csv\", encoding=\"latin-1\", on_bad_lines='skip')\n",
    "\n",
    "# Nur sinnvolle Bewertungen\n",
    "df = df[df['Book-Rating'] > 0]\n",
    "\n",
    "# Nutzer mit > 50 Bewertungen\n",
    "user_counts = df['User-ID'].value_counts()\n",
    "active_users = user_counts[user_counts > 50].index\n",
    "df = df[df['User-ID'].isin(active_users)]\n",
    "\n",
    "# Bücher mit > 50 Bewertungen\n",
    "book_counts = df['ISBN'].value_counts()\n",
    "popular_books = book_counts[book_counts > 50].index\n",
    "df = df[df['ISBN'].isin(popular_books)]\n",
    "\n",
    "# Pivot-Tabelle (User x ISBN)\n",
    "pivot = df.pivot_table(index='User-ID', columns='ISBN', values='Book-Rating').fillna(0)\n",
    "\n",
    "# Ähnlichkeitsmatrix\n",
    "similarity = cosine_similarity(pivot)\n",
    "\n",
    "# Modell speichern\n",
    "joblib.dump((pivot, similarity), 'book_model.joblib')\n",
    "\n",
    "print(\"✅ Modell erfolgreich gespeichert.\")"
   ]
  },
  {
   "cell_type": "code",
   "execution_count": null,
   "id": "0933ad24-ded3-4721-b0e2-947c58296556",
   "metadata": {},
   "outputs": [],
   "source": []
  }
 ],
 "metadata": {
  "kernelspec": {
   "display_name": "Python 3 (ipykernel)",
   "language": "python",
   "name": "python3"
  },
  "language_info": {
   "codemirror_mode": {
    "name": "ipython",
    "version": 3
   },
   "file_extension": ".py",
   "mimetype": "text/x-python",
   "name": "python",
   "nbconvert_exporter": "python",
   "pygments_lexer": "ipython3",
   "version": "3.11.2"
  }
 },
 "nbformat": 4,
 "nbformat_minor": 5
}
